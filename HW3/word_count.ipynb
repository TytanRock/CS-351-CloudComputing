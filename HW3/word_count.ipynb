{
  "cells": [
    {
      "metadata": {
        "trusted": true
      },
      "cell_type": "code",
      "source": "%%file word_count.py\n# From http://mrjob.readthedocs.org/en/latest/guides/quickstart.html#writing-your-first-job\n\nfrom mrjob.job import MRJob\nfrom mrjob.step import MRStep\nfrom itertools import tee\nimport re\nimport sys\n\nWORD_RE = re.compile(r\"[\\w']+\")\n\n# Legacy class to remember how jobs work\nclass MRWordFrequencyCount(MRJob):\n\n    def mapper(self, _, line):\n        yield \"chars\", len(line)\n        yield \"words\", len(line.split())\n        yield \"lines\", 1\n\n    def reducer(self, key, values):\n        yield key, sum(values)\n\n# New class for MRJob Word Probability\nclass MRWordProbability(MRJob):\n    \n    # All the steps taken to produce probabilities and most common occurences\n    def steps(self):\n        return [\n            # Pull strings out of the csv\n            MRStep(mapper=self.mapper_pull_csv),\n            # Produce bigrams from the string\n            MRStep(mapper=self.mapper_get_bigrams,\n                   combiner=self.combiner_count_bigrams,\n                   reducer=self.reducer_count_bigrams),\n            # Calculate percents and most common occurences\n            MRStep(reducer=self.reducer_calculate_percents)\n        ]\n    \n    # Just get the string from the csv\n    def mapper_pull_csv(self, _, line):\n        if(line[0] != '\"'):\n            yield (None, line[line.find(\",\"):].lower())\n    \n    # Pull words from the string and make a bigram for every instance of each word following each other\n    def mapper_get_bigrams(self, _, line):\n        prevWord = \"\"\n        # Use regex to find words\n        for word in WORD_RE.findall(line):\n            if(prevWord != \"\"):\n                yield (prevWord + \"-\" + word, 1)\n            prevWord = word\n    \n    # Combine all like bigrams\n    def combiner_count_bigrams(self, word, counts):\n        yield (word, sum(counts))\n    \n    # Combine all like bigrams\n    def reducer_count_bigrams(self, word, counts):\n        yield None, (sum(counts), word)\n    \n    # Function used to filter for bigrams that start with \"my\" and rank them on how often they occur\n    def sortKey(self, x):\n        num, word = x\n        if(word.startswith(\"my\")):\n            return num\n        else:\n            return 0\n    # Function used to sort based on probability\n    def mostUsed(self, x):\n        num, word = x\n        return num\n    \n    # Calculate percentage of each word showing up\n    def reducer_calculate_percents(self, _, pairs):\n        \n        total = 0\n        \n        # Tee off the iterator so we can have 3 total runs through the data\n        pairs, secondPairs = tee(pairs)\n        pairs, sortedPairs = tee(pairs)\n        \n        # First calculate the total number of occurences of each bigram\n        for pair in pairs:\n            tmpCnt, _ = pair\n            \n            total = total + tmpCnt\n        \n        # Then sort the list based on the above function\n        sortedList = sorted(sortedPairs, key=self.sortKey, reverse = True)\n        for i in range(10):\n            word_count, word_key = sortedList[i]\n            yield 'Most used number ' + str(i+1), (word_key, word_count / total, word_count)\n        \n        \n        # Then print out all the rest of the words based on most common occurence\n        probabilityList = sorted(secondPairs, key=self.mostUsed, reverse = True)\n        for anotherPair in probabilityList:\n            word_count, word_key = anotherPair\n            \n            yield word_key, ((float(word_count) / total), word_count)\n\n# Run the program\nif __name__ == '__main__':\n    MRWordProbability.run()\n",
      "execution_count": 22,
      "outputs": [
        {
          "output_type": "stream",
          "text": "Overwriting word_count.py\n",
          "name": "stdout"
        }
      ]
    },
    {
      "metadata": {
        "trusted": true
      },
      "cell_type": "code",
      "source": "!pip install mrjob",
      "execution_count": 2,
      "outputs": [
        {
          "output_type": "stream",
          "text": "Collecting mrjob\n\u001b[?25l  Downloading https://files.pythonhosted.org/packages/40/e3/53ee0f4a5791e856065878751fa1959b0a5ea0b20d458c8b6bf28c59020d/mrjob-0.6.8-py2.py3-none-any.whl (428kB)\n\u001b[K     |████████████████████████████████| 430kB 10.6MB/s eta 0:00:01\n\u001b[?25hCollecting google-cloud-storage>=1.13.1 (from mrjob)\n\u001b[?25l  Downloading https://files.pythonhosted.org/packages/9c/aa/048f5b3950f78c9e6afdb05e3667abb7a7ca4463bfde002257acd1874c3f/google_cloud_storage-1.15.0-py2.py3-none-any.whl (64kB)\n\u001b[K     |████████████████████████████████| 71kB 11.7MB/s eta 0:00:01\n\u001b[?25hRequirement already satisfied: boto3>=1.4.6 in /home/nbuser/anaconda3_501/lib/python3.6/site-packages (from mrjob) (1.4.8)\nRequirement already satisfied: PyYAML>=3.10 in /home/nbuser/anaconda3_501/lib/python3.6/site-packages (from mrjob) (3.13)\nCollecting google-cloud-dataproc>=0.3.0 (from mrjob)\n\u001b[?25l  Downloading https://files.pythonhosted.org/packages/86/9b/30f1e5f55515334b2d897afd19234da53113910ac9fb2d9b2ec128dd60d5/google_cloud_dataproc-0.3.1-py2.py3-none-any.whl (211kB)\n\u001b[K     |████████████████████████████████| 215kB 21.7MB/s eta 0:00:01\n\u001b[?25hCollecting google-cloud-logging>=1.9.0 (from mrjob)\n\u001b[?25l  Downloading https://files.pythonhosted.org/packages/a1/56/ea970a90679ff2bd065fb455a0a1b6c810cfc21e3ed674aec68f4f3cd37a/google_cloud_logging-1.10.0-py2.py3-none-any.whl (112kB)\n\u001b[K     |████████████████████████████████| 112kB 39.5MB/s eta 0:00:01\n\u001b[?25hRequirement already satisfied: botocore>=1.6.0 in /home/nbuser/anaconda3_501/lib/python3.6/site-packages (from mrjob) (1.8.50)\nCollecting google-cloud-core<0.30dev,>=0.29.0 (from google-cloud-storage>=1.13.1->mrjob)\n  Downloading https://files.pythonhosted.org/packages/0c/f2/3c225e7a69cb27d283b68bff867722bd066bc1858611180197f711815ea5/google_cloud_core-0.29.1-py2.py3-none-any.whl\nCollecting google-api-core<2.0.0dev,>=1.6.0 (from google-cloud-storage>=1.13.1->mrjob)\n\u001b[?25l  Downloading https://files.pythonhosted.org/packages/3d/3d/328de10db1b3ec788faa65419727b223b720e9812c9c8660a390b3d56ee9/google_api_core-1.10.0-py2.py3-none-any.whl (65kB)\n\u001b[K     |████████████████████████████████| 71kB 14.2MB/s eta 0:00:01\n\u001b[?25hCollecting google-resumable-media>=0.3.1 (from google-cloud-storage>=1.13.1->mrjob)\n  Downloading https://files.pythonhosted.org/packages/e2/5d/4bc5c28c252a62efe69ed1a1561da92bd5af8eca0cdcdf8e60354fae9b29/google_resumable_media-0.3.2-py2.py3-none-any.whl\nRequirement already satisfied: jmespath<1.0.0,>=0.7.1 in /home/nbuser/anaconda3_501/lib/python3.6/site-packages (from boto3>=1.4.6->mrjob) (0.9.4)\nRequirement already satisfied: s3transfer<0.2.0,>=0.1.10 in /home/nbuser/anaconda3_501/lib/python3.6/site-packages (from boto3>=1.4.6->mrjob) (0.1.13)\nRequirement already satisfied: python-dateutil<3.0.0,>=2.1 in /home/nbuser/anaconda3_501/lib/python3.6/site-packages (from botocore>=1.6.0->mrjob) (2.7.5)\nRequirement already satisfied: docutils>=0.10 in /home/nbuser/anaconda3_501/lib/python3.6/site-packages (from botocore>=1.6.0->mrjob) (0.14)\nRequirement already satisfied: protobuf>=3.4.0 in /home/nbuser/anaconda3_501/lib/python3.6/site-packages (from google-api-core<2.0.0dev,>=1.6.0->google-cloud-storage>=1.13.1->mrjob) (3.7.1)\nRequirement already satisfied: requests<3.0.0dev,>=2.18.0 in /home/nbuser/anaconda3_501/lib/python3.6/site-packages (from google-api-core<2.0.0dev,>=1.6.0->google-cloud-storage>=1.13.1->mrjob) (2.21.0)\nCollecting googleapis-common-protos!=1.5.4,<2.0dev,>=1.5.3 (from google-api-core<2.0.0dev,>=1.6.0->google-cloud-storage>=1.13.1->mrjob)\n  Downloading https://files.pythonhosted.org/packages/81/ca/295515dff932fc41cdcb7c80babbba7fe96643d16ce34211fff0ecd48528/googleapis-common-protos-1.5.10.tar.gz\nRequirement already satisfied: six>=1.10.0 in /home/nbuser/anaconda3_501/lib/python3.6/site-packages (from google-api-core<2.0.0dev,>=1.6.0->google-cloud-storage>=1.13.1->mrjob) (1.11.0)\nRequirement already satisfied: setuptools>=34.0.0 in /home/nbuser/anaconda3_501/lib/python3.6/site-packages (from google-api-core<2.0.0dev,>=1.6.0->google-cloud-storage>=1.13.1->mrjob) (41.0.1)\nRequirement already satisfied: pytz in /home/nbuser/anaconda3_501/lib/python3.6/site-packages (from google-api-core<2.0.0dev,>=1.6.0->google-cloud-storage>=1.13.1->mrjob) (2018.7)\nCollecting google-auth<2.0dev,>=0.4.0 (from google-api-core<2.0.0dev,>=1.6.0->google-cloud-storage>=1.13.1->mrjob)\n\u001b[?25l  Downloading https://files.pythonhosted.org/packages/c5/9b/ed0516cc1f7609fb0217e3057ff4f0f9f3e3ce79a369c6af4a6c5ca25664/google_auth-1.6.3-py2.py3-none-any.whl (73kB)\n\u001b[K     |████████████████████████████████| 81kB 14.5MB/s eta 0:00:01\n\u001b[?25hRequirement already satisfied: chardet<3.1.0,>=3.0.2 in /home/nbuser/anaconda3_501/lib/python3.6/site-packages (from requests<3.0.0dev,>=2.18.0->google-api-core<2.0.0dev,>=1.6.0->google-cloud-storage>=1.13.1->mrjob) (3.0.4)\nRequirement already satisfied: idna<2.9,>=2.5 in /home/nbuser/anaconda3_501/lib/python3.6/site-packages (from requests<3.0.0dev,>=2.18.0->google-api-core<2.0.0dev,>=1.6.0->google-cloud-storage>=1.13.1->mrjob) (2.7)\nRequirement already satisfied: certifi>=2017.4.17 in /home/nbuser/anaconda3_501/lib/python3.6/site-packages (from requests<3.0.0dev,>=2.18.0->google-api-core<2.0.0dev,>=1.6.0->google-cloud-storage>=1.13.1->mrjob) (2018.10.15)\nRequirement already satisfied: urllib3<1.25,>=1.21.1 in /home/nbuser/anaconda3_501/lib/python3.6/site-packages (from requests<3.0.0dev,>=2.18.0->google-api-core<2.0.0dev,>=1.6.0->google-cloud-storage>=1.13.1->mrjob) (1.23)\nCollecting cachetools>=2.0.0 (from google-auth<2.0dev,>=0.4.0->google-api-core<2.0.0dev,>=1.6.0->google-cloud-storage>=1.13.1->mrjob)\n  Downloading https://files.pythonhosted.org/packages/39/2b/d87fc2369242bd743883232c463f28205902b8579cb68dcf5b11eee1652f/cachetools-3.1.0-py2.py3-none-any.whl\nCollecting rsa>=3.1.4 (from google-auth<2.0dev,>=0.4.0->google-api-core<2.0.0dev,>=1.6.0->google-cloud-storage>=1.13.1->mrjob)\n  Downloading https://files.pythonhosted.org/packages/02/e5/38518af393f7c214357079ce67a317307936896e961e35450b70fad2a9cf/rsa-4.0-py2.py3-none-any.whl\nRequirement already satisfied: pyasn1-modules>=0.2.1 in /home/nbuser/anaconda3_501/lib/python3.6/site-packages (from google-auth<2.0dev,>=0.4.0->google-api-core<2.0.0dev,>=1.6.0->google-cloud-storage>=1.13.1->mrjob) (0.2.2)\nRequirement already satisfied: pyasn1>=0.1.3 in /home/nbuser/anaconda3_501/lib/python3.6/site-packages (from rsa>=3.1.4->google-auth<2.0dev,>=0.4.0->google-api-core<2.0.0dev,>=1.6.0->google-cloud-storage>=1.13.1->mrjob) (0.4.4)\nBuilding wheels for collected packages: googleapis-common-protos\n  Building wheel for googleapis-common-protos (setup.py) ... \u001b[?25ldone\n\u001b[?25h  Stored in directory: /home/nbuser/.cache/pip/wheels/db/ad/87/5a1f29ad27e01245cebbd23569bb7e9fda90a211ec98ea0ca1\nSuccessfully built googleapis-common-protos\nInstalling collected packages: googleapis-common-protos, cachetools, rsa, google-auth, google-api-core, google-cloud-core, google-resumable-media, google-cloud-storage, google-cloud-dataproc, google-cloud-logging, mrjob\nSuccessfully installed cachetools-3.1.0 google-api-core-1.10.0 google-auth-1.6.3 google-cloud-core-0.29.1 google-cloud-dataproc-0.3.1 google-cloud-logging-1.10.0 google-cloud-storage-1.15.0 google-resumable-media-0.3.2 googleapis-common-protos-1.5.10 mrjob-0.6.8 rsa-4.0\n\u001b[33mWARNING: You are using pip version 19.1, however version 19.1.1 is available.\nYou should consider upgrading via the 'pip install --upgrade pip' command.\u001b[0m\n",
          "name": "stdout"
        }
      ]
    },
    {
      "metadata": {
        "trusted": true,
        "scrolled": false
      },
      "cell_type": "code",
      "source": "!python word_count.py -r local jokes.csv --output-dir=word_count_out--no-output",
      "execution_count": 23,
      "outputs": [
        {
          "output_type": "stream",
          "text": "Using configs in /home/nbuser/.mrjob.conf\nNo configs specified for local runner\nCreating temp directory /tmp/word_count.nbuser.20190514.145209.376322\nRunning step 1 of 3...\nRunning step 2 of 3...\nRunning step 3 of 3...\njob output is in word_count_out--no-output\nRemoving temp directory /tmp/word_count.nbuser.20190514.145209.376322...\n",
          "name": "stdout"
        }
      ]
    },
    {
      "metadata": {
        "trusted": true
      },
      "cell_type": "code",
      "source": "%%file ~/.mrjob.conf\n\n# http://mrjob.readthedocs.io/en/stable/guides/emr-opts.html\n\nrunners:\n  emr:\n    aws_access_key_id:\n    aws_secret_access_key:\n    ec2_key_pair: secure\n    ec2_key_pair_file: /secure.pem\n    region: us-east-1 # http://docs.aws.amazon.com/general/latest/gr/rande.html\n    master_instance_type: m5.xlarge # https://aws.amazon.com/emr/pricing/\n    instance_type: m5.xlarge\n    num_core_instances: 1\n    ssh_tunnel: true",
      "execution_count": 6,
      "outputs": [
        {
          "output_type": "stream",
          "text": "Writing /home/nbuser/.mrjob.conf\n",
          "name": "stdout"
        }
      ]
    },
    {
      "metadata": {
        "trusted": true,
        "scrolled": true
      },
      "cell_type": "code",
      "source": "!python word_count.py -r emr s3://mrjob-cs351-cory/Input/shortjokes.csv \\\n--output-dir=s3://mrjob-cs351-cory/bigrams_out \\\n--no-output",
      "execution_count": null,
      "outputs": [
        {
          "output_type": "stream",
          "text": "Using configs in /home/nbuser/.mrjob.conf\nUsing s3://mrjob-ece7bb2e919093b3/tmp/ as our temp dir on S3\nCreating temp directory /tmp/word_count.nbuser.20190514.145306.820102\nwriting master bootstrap script to /tmp/word_count.nbuser.20190514.145306.820102/b.sh\nuploading working dir files to s3://mrjob-ece7bb2e919093b3/tmp/word_count.nbuser.20190514.145306.820102/files/wd...\nCopying other local files to s3://mrjob-ece7bb2e919093b3/tmp/word_count.nbuser.20190514.145306.820102/files/\nCreated new cluster j-3FLPJTI5U9T6R\nAdded EMR tags to cluster j-3FLPJTI5U9T6R: __mrjob_label=word_count, __mrjob_owner=nbuser, __mrjob_version=0.6.8\nWaiting for Step 1 of 3 (s-3KEVCNLL923IU) to complete...\n  PENDING (cluster is STARTING)\n  PENDING (cluster is STARTING)\n  PENDING (cluster is STARTING)\n",
          "name": "stdout"
        }
      ]
    },
    {
      "metadata": {
        "trusted": true
      },
      "cell_type": "code",
      "source": "",
      "execution_count": null,
      "outputs": []
    }
  ],
  "metadata": {
    "kernelspec": {
      "name": "python36",
      "display_name": "Python 3.6",
      "language": "python"
    },
    "language_info": {
      "mimetype": "text/x-python",
      "nbconvert_exporter": "python",
      "name": "python",
      "pygments_lexer": "ipython3",
      "version": "3.6.6",
      "file_extension": ".py",
      "codemirror_mode": {
        "version": 3,
        "name": "ipython"
      }
    }
  },
  "nbformat": 4,
  "nbformat_minor": 2
}